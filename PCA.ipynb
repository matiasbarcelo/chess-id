{
 "cells": [
  {
   "cell_type": "code",
   "execution_count": 1,
   "metadata": {},
   "outputs": [],
   "source": [
    "import os\n",
    "import cv2\n",
    "import numpy as np"
   ]
  },
  {
   "cell_type": "markdown",
   "metadata": {},
   "source": [
    "For each dir in the train dir  \n",
    "For each file in the dir  \n",
    "Grayscale the image, flatten the image into a 1D array, and make the name of the dir the label"
   ]
  },
  {
   "cell_type": "code",
   "execution_count": 16,
   "metadata": {},
   "outputs": [],
   "source": [
    "def load_images_from_folder(folder):\n",
    "    names_of_file = []\n",
    "    images = []\n",
    "    labels = []\n",
    "    for dir_name in os.listdir(folder):\n",
    "        dir_path = os.path.join(folder, dir_name)\n",
    "        if os.path.isdir(dir_path):\n",
    "            for filename in os.listdir(dir_path):\n",
    "                img_path = os.path.join(dir_path, filename)\n",
    "                img = cv2.imread(img_path, cv2.IMREAD_GRAYSCALE)\n",
    "                if img is not None:\n",
    "                    img_flattened = img.flatten()\n",
    "                    images.append(img_flattened)\n",
    "                    labels.append(dir_name)\n",
    "                    names_of_file.append(filename)\n",
    "    return np.array(names_of_file), np.array(images), np.array(labels)"
   ]
  },
  {
   "cell_type": "code",
   "execution_count": 27,
   "metadata": {},
   "outputs": [],
   "source": [
    "# Define test_imag function to test on \"test_black_bishop.jpg\"\n",
    "def test_img(img_path, label):\n",
    "    images = []\n",
    "    labels = []\n",
    "    img = cv2.imread(img_path, cv2.IMREAD_GRAYSCALE)\n",
    "    height, width = img.shape[:2]\n",
    "    if img is not None:\n",
    "        img_flattened = img.flatten()\n",
    "        images.append(img_flattened)\n",
    "        labels.append(label)\n",
    "    return np.array(images), np.array(labels), height, width"
   ]
  },
  {
   "cell_type": "code",
   "execution_count": 29,
   "metadata": {},
   "outputs": [
    {
     "name": "stdout",
     "output_type": "stream",
     "text": [
      "(1, 51529)\n",
      "uint8\n",
      "227 227\n"
     ]
    }
   ],
   "source": [
    "# use function and explore a bit\n",
    "test_image_np_array, test_label, h, w = test_img(\"test_black_bishop.jpg\", \"bb\")\n",
    "\n",
    "print(test_image_np_array.shape)\n",
    "print(test_image_np_array.dtype)\n",
    "print(h, w)"
   ]
  },
  {
   "cell_type": "code",
   "execution_count": 25,
   "metadata": {},
   "outputs": [],
   "source": [
    "from matplotlib import pyplot as plt"
   ]
  },
  {
   "cell_type": "code",
   "execution_count": 30,
   "metadata": {},
   "outputs": [
    {
     "data": {
      "image/png": "[encoded data removed]",
      "text/plain": [
       "<Figure size 170x230 with 1 Axes>"
      ]
     },
     "metadata": {},
     "output_type": "display_data"
    }
   ],
   "source": [
    "# testing on the test image\n",
    "\n",
    "def plot_gallery(images, titles, h, w, n_row=3, n_col=6):\n",
    "    \"\"\"Helper function to plot a gallery of portraits\"\"\"\n",
    "    plt.figure(figsize=(1.7 * n_col, 2.3 * n_row))\n",
    "    plt.subplots_adjust(bottom=0, left=.01, right=.99, top=.90, hspace=.35)\n",
    "    for i in range(n_row * n_col):\n",
    "        plt.subplot(n_row, n_col, i + 1)\n",
    "        plt.imshow(images[i].reshape((h, w)), cmap=plt.cm.gray)\n",
    "        plt.title(titles[i], size=12)\n",
    "        plt.xticks(())\n",
    "        plt.yticks(())\n",
    "\n",
    "plot_gallery(test_image_np_array, test_label, h, w, 1, 1) # defaults to showing a 3 by 6 subset of the faces"
   ]
  },
  {
   "cell_type": "code",
   "execution_count": null,
   "metadata": {},
   "outputs": [],
   "source": [
    "# a helper plotting function\n",
    "def plot_gallery(images, titles, h, w, n_row=3, n_col=6):\n",
    "    \"\"\"Helper function to plot a gallery of portraits\"\"\"\n",
    "    plt.figure(figsize=(1.7 * n_col, 2.3 * n_row))\n",
    "    plt.subplots_adjust(bottom=0, left=.01, right=.99, top=.90, hspace=.35)\n",
    "    for i in range(n_row * n_col):\n",
    "        plt.subplot(n_row, n_col, i + 1)\n",
    "        plt.imshow(images[i].reshape((h, w)), cmap=plt.cm.gray)\n",
    "        plt.title(titles[i], size=12)\n",
    "        plt.xticks(())\n",
    "        plt.yticks(())\n",
    "\n",
    "plot_gallery(X, names[y], h, w) # defaults to showing a 3 by 6 subset of the faces"
   ]
  },
  {
   "cell_type": "code",
   "execution_count": 20,
   "metadata": {},
   "outputs": [],
   "source": [
    "train_folder = \"Chess ID Public Data\\output_train\"\n",
    "test_folder = \"Chess ID Public Data\\output_test\"\n",
    "\n",
    "np_name_train, np_uint8_image_train, np_label_train = load_images_from_folder(train_folder)\n",
    "np_name_test, np_uint8_image_test, np_label_test = load_images_from_folder(test_folder)"
   ]
  },
  {
   "cell_type": "code",
   "execution_count": 23,
   "metadata": {},
   "outputs": [
    {
     "name": "stdout",
     "output_type": "stream",
     "text": [
      "(10360, 51529)\n",
      "['bb' 'bb' 'bb' ... 'wr' 'wr' 'wr']\n"
     ]
    }
   ],
   "source": [
    "print(np_uint8_image_train.shape)\n",
    "print(np_label_train)"
   ]
  },
  {
   "cell_type": "code",
   "execution_count": 24,
   "metadata": {},
   "outputs": [],
   "source": [
    "from sklearn.preprocessing import StandardScaler\n",
    "from sklearn.decomposition import PCA\n",
    "from sklearn.neural_network import MLPClassifier\n",
    "from sklearn.metrics import classification_report, accuracy_score"
   ]
  },
  {
   "cell_type": "code",
   "execution_count": 38,
   "metadata": {},
   "outputs": [],
   "source": [
    "# 300 to keep it simple and like on ipynb\n",
    "n_components = 300\n",
    "\n",
    "pca = PCA(n_components=n_components)\n",
    "pca.fit(np_uint8_image_train.copy())\n",
    "eigenpieces = pca.components_.reshape((n_components, h, w))"
   ]
  },
  {
   "cell_type": "code",
   "execution_count": null,
   "metadata": {},
   "outputs": [],
   "source": [
    "pho"
   ]
  }
 ],
 "metadata": {
  "kernelspec": {
   "display_name": "base",
   "language": "python",
   "name": "python3"
  },
  "language_info": {
   "codemirror_mode": {
    "name": "ipython",
    "version": 3
   },
   "file_extension": ".py",
   "mimetype": "text/x-python",
   "name": "python",
   "nbconvert_exporter": "python",
   "pygments_lexer": "ipython3",
   "version": "3.10.4"
  }
 },
 "nbformat": 4,
 "nbformat_minor": 2
}
